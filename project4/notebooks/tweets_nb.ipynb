{
 "cells": [
  {
   "cell_type": "code",
   "execution_count": 1,
   "metadata": {},
   "outputs": [],
   "source": [
    "import sys\n",
    "sys.path.insert(0,'../../../ece219-project4')\n",
    "\n",
    "from project4.utils.DataIO import DataIO\n",
    "io = DataIO(\"../data\")\n",
    "\n",
    "import pandas as pd\n",
    "import numpy as np"
   ]
  },
  {
   "cell_type": "code",
   "execution_count": 2,
   "metadata": {},
   "outputs": [],
   "source": [
    "# Silences warnings from sklearn\n",
    "def warn(*args, **kwargs):\n",
    "    pass\n",
    "import warnings\n",
    "warnings.warn = warn"
   ]
  },
  {
   "cell_type": "code",
   "execution_count": 3,
   "metadata": {},
   "outputs": [],
   "source": [
    "from project4.utils.TweetsDataset import TweetsDataset\n",
    "tweet_data = TweetsDataset()"
   ]
  },
  {
   "cell_type": "code",
   "execution_count": 4,
   "metadata": {},
   "outputs": [
    {
     "name": "stderr",
     "output_type": "stream",
     "text": [
      "169122it [00:05, 28380.09it/s]\n",
      "23511it [00:00, 28521.62it/s]\n",
      "233022it [00:08, 26735.97it/s]\n",
      "440621it [00:15, 28163.14it/s]\n",
      "743649it [00:27, 27537.67it/s]\n",
      "1213813it [00:45, 26912.09it/s]\n"
     ]
    },
    {
     "data": {
      "text/plain": [
       "{'#gohawks': datetime.timedelta(days=24, seconds=7988),\n",
       " '#gopatriots': datetime.timedelta(days=23, seconds=79464),\n",
       " '#nfl': datetime.timedelta(days=24, seconds=39332),\n",
       " '#patriots': datetime.timedelta(days=24, seconds=38862),\n",
       " '#sb49': datetime.timedelta(days=24, seconds=23061),\n",
       " '#superbowl': datetime.timedelta(days=24, seconds=35221)}"
      ]
     },
     "execution_count": 4,
     "metadata": {},
     "output_type": "execute_result"
    }
   ],
   "source": [
    "tweet_data.get_elapsed_time()"
   ]
  },
  {
   "cell_type": "markdown",
   "metadata": {},
   "source": [
    "# Question 9.1"
   ]
  },
  {
   "cell_type": "code",
   "execution_count": 5,
   "metadata": {},
   "outputs": [],
   "source": [
    "average_tweets_by_hashtag = tweet_data.average_tweets_per_hour()"
   ]
  },
  {
   "cell_type": "code",
   "execution_count": 6,
   "metadata": {},
   "outputs": [
    {
     "data": {
      "text/plain": [
       "{'#gohawks': 292.48785062173687,\n",
       " '#gopatriots': 40.95469800606194,\n",
       " '#nfl': 397.0213901819841,\n",
       " '#patriots': 750.89426460689,\n",
       " '#sb49': 1276.8570598680474,\n",
       " '#superbowl': 2072.11840170408}"
      ]
     },
     "execution_count": 6,
     "metadata": {},
     "output_type": "execute_result"
    }
   ],
   "source": [
    "average_tweets_by_hashtag"
   ]
  },
  {
   "cell_type": "code",
   "execution_count": 7,
   "metadata": {},
   "outputs": [
    {
     "name": "stderr",
     "output_type": "stream",
     "text": [
      "169122it [00:05, 28769.38it/s]\n",
      "23511it [00:00, 28285.14it/s]\n",
      "233022it [00:08, 27260.13it/s]\n",
      "440621it [00:14, 29674.46it/s]\n",
      "743649it [00:25, 28739.62it/s]\n",
      "1213813it [00:44, 27385.17it/s]\n"
     ]
    }
   ],
   "source": [
    "average_followers_per_tweet = tweet_data.average_followers()"
   ]
  },
  {
   "cell_type": "code",
   "execution_count": 8,
   "metadata": {},
   "outputs": [
    {
     "data": {
      "text/plain": [
       "{'#gohawks': 2217.9237355281984,\n",
       " '#gopatriots': 1427.2526051635405,\n",
       " '#nfl': 4662.37544523693,\n",
       " '#patriots': 3280.4635616550277,\n",
       " '#sb49': 10374.160292019487,\n",
       " '#superbowl': 8814.96799424623}"
      ]
     },
     "execution_count": 8,
     "metadata": {},
     "output_type": "execute_result"
    }
   ],
   "source": [
    "average_followers_per_tweet"
   ]
  },
  {
   "cell_type": "code",
   "execution_count": 9,
   "metadata": {},
   "outputs": [
    {
     "name": "stderr",
     "output_type": "stream",
     "text": [
      "169122it [00:06, 27712.54it/s]\n",
      "23511it [00:00, 27923.96it/s]\n",
      "233022it [00:08, 26450.39it/s]\n",
      "440621it [00:15, 28815.71it/s]\n",
      "743649it [00:26, 28253.30it/s]\n",
      "1213813it [00:44, 27280.57it/s]\n"
     ]
    }
   ],
   "source": [
    "average_retweets_per_tweet = tweet_data.average_retweets()"
   ]
  },
  {
   "cell_type": "code",
   "execution_count": 10,
   "metadata": {},
   "outputs": [
    {
     "data": {
      "text/plain": [
       "{'#gohawks': 2.0132093991319877,\n",
       " '#gopatriots': 1.4081919101697078,\n",
       " '#nfl': 1.5344602655543254,\n",
       " '#patriots': 1.7852871288476946,\n",
       " '#sb49': 2.52713444111402,\n",
       " '#superbowl': 2.3911895819207736}"
      ]
     },
     "execution_count": 10,
     "metadata": {},
     "output_type": "execute_result"
    }
   ],
   "source": [
    "average_retweets_per_tweet"
   ]
  },
  {
   "cell_type": "markdown",
   "metadata": {},
   "source": [
    "# Question 9.2"
   ]
  },
  {
   "cell_type": "code",
   "execution_count": 11,
   "metadata": {},
   "outputs": [
    {
     "name": "stderr",
     "output_type": "stream",
     "text": [
      "233022it [00:08, 26223.89it/s]\n"
     ]
    },
    {
     "name": "stdout",
     "output_type": "stream",
     "text": [
      "2015-01-14 00:00:04\n"
     ]
    },
    {
     "data": {
      "image/png": "[encoded data removed]",
      "text/plain": [
       "<Figure size 640x480 with 1 Axes>"
      ]
     },
     "metadata": {},
     "output_type": "display_data"
    }
   ],
   "source": [
    "tweet_data.plot_tweets_time_hist(\"#nfl\")"
   ]
  },
  {
   "cell_type": "code",
   "execution_count": 12,
   "metadata": {},
   "outputs": [
    {
     "name": "stderr",
     "output_type": "stream",
     "text": [
      "1213813it [00:46, 26115.15it/s]\n"
     ]
    },
    {
     "name": "stdout",
     "output_type": "stream",
     "text": [
      "2015-01-14 00:13:07\n"
     ]
    },
    {
     "data": {
      "image/png": "[encoded data removed]",
      "text/plain": [
       "<Figure size 640x480 with 1 Axes>"
      ]
     },
     "metadata": {},
     "output_type": "display_data"
    }
   ],
   "source": [
    "tweet_data.plot_tweets_time_hist(\"#superbowl\")"
   ]
  },
  {
   "cell_type": "markdown",
   "metadata": {},
   "source": [
    "# Question 10"
   ]
  },
  {
   "cell_type": "markdown",
   "metadata": {},
   "source": [
    "Our task is to try and predict which team a user is rooting for given the content of their tweets, WITHOUT looking at the #gohawks or #gopatriots hashtags. This falls under the library of prediction tasks. First, we subsample the dataset for users that have posts in either the #gohawks or #gopatriots set and in the #nfl, #superbowl, or #sb49 dataset. The fan base of the user is labeled with them posting in #gohawks or #gopatriots. If they post in both we remove the user. If they don't post in either of those hashtags we remove the user. This way my computer can handle the dataset. "
   ]
  },
  {
   "cell_type": "markdown",
   "metadata": {},
   "source": []
  },
  {
   "cell_type": "markdown",
   "metadata": {},
   "source": []
  }
 ],
 "metadata": {
  "kernelspec": {
   "display_name": "ece219",
   "language": "python",
   "name": "python3"
  },
  "language_info": {
   "codemirror_mode": {
    "name": "ipython",
    "version": 3
   },
   "file_extension": ".py",
   "mimetype": "text/x-python",
   "name": "python",
   "nbconvert_exporter": "python",
   "pygments_lexer": "ipython3",
   "version": "3.11.9"
  }
 },
 "nbformat": 4,
 "nbformat_minor": 2
}
